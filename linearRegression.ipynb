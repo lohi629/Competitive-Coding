{
  "nbformat": 4,
  "nbformat_minor": 0,
  "metadata": {
    "colab": {
      "name": "linearRegression.ipynb",
      "provenance": [],
      "collapsed_sections": [],
      "authorship_tag": "ABX9TyOlT2swFDZffR0aAiD+NqcN",
      "include_colab_link": true
    },
    "kernelspec": {
      "name": "python3",
      "display_name": "Python 3"
    },
    "language_info": {
      "name": "python"
    }
  },
  "cells": [
    {
      "cell_type": "markdown",
      "metadata": {
        "id": "view-in-github",
        "colab_type": "text"
      },
      "source": [
        "<a href=\"https://colab.research.google.com/github/lohi629/Competitive-Coding/blob/master/linearRegression.ipynb\" target=\"_parent\"><img src=\"https://colab.research.google.com/assets/colab-badge.svg\" alt=\"Open In Colab\"/></a>"
      ]
    },
    {
      "cell_type": "code",
      "execution_count": 2,
      "metadata": {
        "colab": {
          "base_uri": "https://localhost:8080/"
        },
        "id": "0WxRmDsd1N0o",
        "outputId": "751f93d9-fd30-4039-9568-f9a8d9d3df71"
      },
      "outputs": [
        {
          "output_type": "stream",
          "name": "stdout",
          "text": [
            "   x    y\n",
            "0  1  2.4\n",
            "1  2  3.0\n",
            "2  3  3.6\n",
            "3  4  4.0\n",
            "4  6  5.0\n",
            "5  8  6.0\n"
          ]
        }
      ],
      "source": [
        "import numpy as np\n",
        "import pandas as pd\n",
        "import matplotlib.pyplot as plt\n",
        "df=pd.read_excel(\"/content/data2.xlsx\")\n",
        "print(df)"
      ]
    },
    {
      "cell_type": "code",
      "source": [
        "x=df['x']\n",
        "y=df['y']\n",
        "def sum(x):\n",
        "    s=0\n",
        "    for i in x:\n",
        "        s=s+i\n",
        "    return s\n",
        "sumx=sum(x)\n",
        "sumy=sum(y)\n",
        "sumxy=sum(x*y)\n",
        "sumxx=sum(x*x)\n",
        "print(sumx)\n",
        "print(sumy)\n",
        "print(sumxy)\n",
        "print(sumxx)"
      ],
      "metadata": {
        "colab": {
          "base_uri": "https://localhost:8080/"
        },
        "id": "6uxYRtlK2KgR",
        "outputId": "85945e5b-3f96-4b3a-ac68-6cc007b5f1c2"
      },
      "execution_count": 3,
      "outputs": [
        {
          "output_type": "stream",
          "name": "stdout",
          "text": [
            "24\n",
            "24.0\n",
            "113.2\n",
            "130\n"
          ]
        }
      ]
    },
    {
      "cell_type": "code",
      "source": [
        "y_intercept=((sumxx*sumy)-(sumx*sumxy))/((len(x)*sumxx)-(sumx**2))\n",
        "print(y_intercept)\n",
        "slope=((len(x)*sumxy)-(sumx*sumy))/((len(x)*sumxx)-(sumx*sumx))\n",
        "print(slope)"
      ],
      "metadata": {
        "colab": {
          "base_uri": "https://localhost:8080/"
        },
        "id": "7IMQnFRK2Kmh",
        "outputId": "a92ff69d-8378-433c-8ad5-db57f86aa774"
      },
      "execution_count": 4,
      "outputs": [
        {
          "output_type": "stream",
          "name": "stdout",
          "text": [
            "1.9764705882352933\n",
            "0.5058823529411767\n"
          ]
        }
      ]
    },
    {
      "cell_type": "code",
      "source": [
        "ycal=slope*x+y_intercept\n",
        "print(\"ycal :\",ycal)\n",
        "yexp=y\n",
        "print(\"yexp :\",yexp)"
      ],
      "metadata": {
        "colab": {
          "base_uri": "https://localhost:8080/"
        },
        "id": "LplPoMpk2Kqq",
        "outputId": "e0f68be0-6999-45b5-ddd8-9ea21f2c5bb4"
      },
      "execution_count": 37,
      "outputs": [
        {
          "output_type": "stream",
          "name": "stdout",
          "text": [
            "ycal : 0    2.482353\n",
            "1    2.988235\n",
            "2    3.494118\n",
            "3    4.000000\n",
            "4    5.011765\n",
            "5    6.023529\n",
            "Name: x, dtype: float64\n",
            "yexp : 0    2.4\n",
            "1    3.0\n",
            "2    3.6\n",
            "3    4.0\n",
            "4    5.0\n",
            "5    6.0\n",
            "Name: y, dtype: float64\n"
          ]
        }
      ]
    },
    {
      "cell_type": "code",
      "source": [
        "se=sum((yexp-ycal)**2)\n",
        "\n",
        "print(\"sse:\",se)"
      ],
      "metadata": {
        "colab": {
          "base_uri": "https://localhost:8080/"
        },
        "id": "u1c3_qf27wqb",
        "outputId": "6df7e2bf-76f4-436d-8ee5-68e44f02ad9f"
      },
      "execution_count": 38,
      "outputs": [
        {
          "output_type": "stream",
          "name": "stdout",
          "text": [
            "sse: 0.018823529411764645\n"
          ]
        }
      ]
    },
    {
      "cell_type": "code",
      "source": [
        "plt.plot(x,(yexp-ycal))\n",
        "plt.scatter(x,(yexp-ycal))\n",
        "plt.plot(x,ycal)\n",
        "plt.scatter(x,ycal)\n",
        "plt.plot(x,yexp)\n",
        "plt.scatter(x,yexp)\n",
        "plt.legend(['yer','ycal','yexp'])\n",
        "plt.show()\n"
      ],
      "metadata": {
        "colab": {
          "base_uri": "https://localhost:8080/",
          "height": 265
        },
        "id": "6YEv79MD3V_5",
        "outputId": "85d9667f-5472-4276-c9a5-8724ccb71626"
      },
      "execution_count": 39,
      "outputs": [
        {
          "output_type": "display_data",
          "data": {
            "text/plain": [
              "<Figure size 432x288 with 1 Axes>"
            ],
            "image/png": "[encoded data removed]"
          },
          "metadata": {
            "needs_background": "light"
          }
        }
      ]
    },
    {
      "cell_type": "code",
      "source": [
        "ybar=sum(yexp)/len(yexp)\n",
        "s=[]\n",
        "for i in ycal:\n",
        "  sr=i-ybar\n",
        "  sr=sr*sr\n",
        "  s.append(sr)\n",
        "ssr=sum(s)\n",
        "print(\"ssr:\",ssr)"
      ],
      "metadata": {
        "colab": {
          "base_uri": "https://localhost:8080/"
        },
        "id": "iw9axLME9JyO",
        "outputId": "1c2b591b-179b-4ee7-b47b-24d671f706e7"
      },
      "execution_count": 42,
      "outputs": [
        {
          "output_type": "stream",
          "name": "stdout",
          "text": [
            "ssr: 8.70117647058824\n"
          ]
        }
      ]
    },
    {
      "cell_type": "code",
      "source": [
        "sst=ssr+se\n",
        "print(\"sst:\",sst)"
      ],
      "metadata": {
        "colab": {
          "base_uri": "https://localhost:8080/"
        },
        "id": "UHTWvX7E4eXw",
        "outputId": "25f4edd5-7685-400a-9c88-49cfe99620c2"
      },
      "execution_count": 45,
      "outputs": [
        {
          "output_type": "stream",
          "name": "stdout",
          "text": [
            "sst: 8.720000000000006\n"
          ]
        }
      ]
    },
    {
      "cell_type": "code",
      "source": [
        "R=1-(se/sst)\n",
        "cost_fun=R*R\n",
        "print(\"cost function:\",cost_fun)"
      ],
      "metadata": {
        "colab": {
          "base_uri": "https://localhost:8080/"
        },
        "id": "M15P0zs_5iTi",
        "outputId": "32dc6f5d-eef0-4b1a-def0-32cd580d631c"
      },
      "execution_count": 46,
      "outputs": [
        {
          "output_type": "stream",
          "name": "stdout",
          "text": [
            "cost function: 0.9956873365604529\n"
          ]
        }
      ]
    },
    {
      "cell_type": "code",
      "source": [
        "if(cost_fun>0.90):\n",
        "  print(\"best fit\")\n",
        "else:\n",
        "  print(\"bad fit\")"
      ],
      "metadata": {
        "colab": {
          "base_uri": "https://localhost:8080/"
        },
        "id": "nAAEl9D_-X0t",
        "outputId": "d16a65be-a0f3-4844-e441-ea7a65c06069"
      },
      "execution_count": 47,
      "outputs": [
        {
          "output_type": "stream",
          "name": "stdout",
          "text": [
            "best fit\n"
          ]
        }
      ]
    }
  ]
}